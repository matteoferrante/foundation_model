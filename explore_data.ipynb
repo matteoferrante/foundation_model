{
 "cells": [
  {
   "cell_type": "code",
   "execution_count": 23,
   "id": "3640f3eb-fd63-49ae-adf2-a5a9f4377dd4",
   "metadata": {},
   "outputs": [],
   "source": [
    "import numpy as np\n",
    "import os\n",
    "import nibabel as nib\n",
    "from os.path import join as opj\n",
    "import tqdm"
   ]
  },
  {
   "cell_type": "code",
   "execution_count": 4,
   "id": "3111bbbe-f496-4dc7-a90f-563bb1eabd8f",
   "metadata": {},
   "outputs": [],
   "source": [
    "base_path = \"/srv/nfs-data/janeway/HCP_data\""
   ]
  },
  {
   "cell_type": "code",
   "execution_count": 13,
   "id": "8b498695-2942-4d0c-80c8-bc30e08f2b2c",
   "metadata": {},
   "outputs": [],
   "source": [
    "files=os.listdir(base_path)\n",
    "\n",
    "files = [opj(base_path,i) for i in files if os.path.isdir(opj(base_path,i))]"
   ]
  },
  {
   "cell_type": "code",
   "execution_count": 15,
   "id": "d23ececd-289b-4877-bdc5-3cab105b1335",
   "metadata": {},
   "outputs": [],
   "source": [
    "path = files[0]"
   ]
  },
  {
   "cell_type": "code",
   "execution_count": 20,
   "id": "318fc7b1-bbdf-44c9-853f-913736f97d59",
   "metadata": {},
   "outputs": [],
   "source": [
    "a = nib.load(opj(path,os.listdir(path)[0]))"
   ]
  },
  {
   "cell_type": "code",
   "execution_count": 25,
   "id": "f9deab98-fe51-43b3-add1-c4cebd01e236",
   "metadata": {},
   "outputs": [
    {
     "name": "stderr",
     "output_type": "stream",
     "text": [
      "100%|████████████████████████████████████████████████████████████████████| 4452/4452 [02:43<00:00, 27.21it/s]\n"
     ]
    }
   ],
   "source": [
    "## check i can load all the files\n",
    "problems=[]\n",
    "for path in tqdm.tqdm(files):\n",
    "    \n",
    "    try:\n",
    "        a = nib.load(opj(path,os.listdir(path)[0]))\n",
    "    except:\n",
    "        problems.append(path)\n",
    "    "
   ]
  },
  {
   "cell_type": "code",
   "execution_count": 27,
   "id": "05275f85-3ed3-4759-a512-4aa4e5a19470",
   "metadata": {},
   "outputs": [],
   "source": [
    "good = [i for i in files if i not in problems]"
   ]
  },
  {
   "cell_type": "code",
   "execution_count": 30,
   "id": "21434047-38f9-44ba-b953-db1afedb23d5",
   "metadata": {},
   "outputs": [],
   "source": [
    "# good"
   ]
  },
  {
   "cell_type": "code",
   "execution_count": 28,
   "id": "60e75750-4fae-4da9-81cd-c71452fe4650",
   "metadata": {},
   "outputs": [],
   "source": [
    "np.save(\"files.npy\", np.array(good))"
   ]
  },
  {
   "cell_type": "code",
   "execution_count": null,
   "id": "b93664d8-2863-4711-a531-8ef2fb217ba2",
   "metadata": {},
   "outputs": [],
   "source": []
  }
 ],
 "metadata": {
  "kernelspec": {
   "display_name": "brain_encoding",
   "language": "python",
   "name": "brain_encoding"
  },
  "language_info": {
   "codemirror_mode": {
    "name": "ipython",
    "version": 3
   },
   "file_extension": ".py",
   "mimetype": "text/x-python",
   "name": "python",
   "nbconvert_exporter": "python",
   "pygments_lexer": "ipython3",
   "version": "3.10.12"
  }
 },
 "nbformat": 4,
 "nbformat_minor": 5
}
